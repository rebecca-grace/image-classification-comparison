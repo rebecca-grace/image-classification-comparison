{
 "cells": [
  {
   "attachments": {},
   "cell_type": "markdown",
   "metadata": {},
   "source": [
    "# Image Classification Comparison of Methods\n",
    "\n",
    "In this project I will be running and comparing three classification methods K Nearest Neighbours, Naïve Bayes Algorithm and Multimonial Logistic Regression on the fashion MNIST dataset."
   ]
  },
  {
   "attachments": {},
   "cell_type": "markdown",
   "metadata": {},
   "source": [
    "Import Libraries"
   ]
  },
  {
   "cell_type": "code",
   "execution_count": 1,
   "metadata": {},
   "outputs": [
    {
     "name": "stdout",
     "output_type": "stream",
     "text": [
      "['images_training.h5', 'labels_training.h5']\n"
     ]
    }
   ],
   "source": [
    "import h5py\n",
    "import numpy as np\n",
    "import matplotlib.pyplot as plt\n",
    "from scipy import stats as st\n",
    "import scipy\n",
    "import pandas as pd\n",
    "import math\n",
    "import copy\n",
    "import time\n",
    "from datetime import datetime\n",
    "\n",
    "import os\n",
    "print(os.listdir(\"./input/train\"))"
   ]
  },
  {
   "cell_type": "code",
   "execution_count": 2,
   "metadata": {},
   "outputs": [
    {
     "name": "stdout",
     "output_type": "stream",
     "text": [
      "(30000, 784) (30000,)\n"
     ]
    }
   ],
   "source": [
    "with h5py.File('./input/train/images_training.h5','r') as H:\n",
    "    data_train = np.copy(H['datatrain'])\n",
    "with h5py.File('./input/train/labels_training.h5','r') as H:\n",
    "    label_train = np.copy(H['labeltrain'])\n",
    "    \n",
    "# using H['datatest'], H['labeltest'] for test dataset.\n",
    "print(data_train.shape,label_train.shape)"
   ]
  },
  {
   "attachments": {},
   "cell_type": "markdown",
   "metadata": {},
   "source": [
    "Showing a sample data. The first example belongs to class 0: T-Shirt/Top"
   ]
  },
  {
   "cell_type": "code",
   "execution_count": 3,
   "metadata": {},
   "outputs": [
    {
     "data": {
      "image/png": "[encoded data removed]",
      "text/plain": [
       "<Figure size 432x288 with 1 Axes>"
      ]
     },
     "metadata": {
      "needs_background": "light"
     },
     "output_type": "display_data"
    }
   ],
   "source": [
    "data_train_sample = data_train.reshape((data_train.shape[0], 28, 28))\n",
    "plt.imshow(data_train_sample[0], cmap=plt.get_cmap('gray'))\n",
    "plt.title(\"class \" + str(label_train[0]) + \": T-shirt/Top\" )\n",
    "plt.show()"
   ]
  },
  {
   "attachments": {},
   "cell_type": "markdown",
   "metadata": {},
   "source": [
    "Import test data. Images are scaled between 0 and 1 with 0 representing white and 1 representing black."
   ]
  },
  {
   "cell_type": "code",
   "execution_count": 5,
   "metadata": {},
   "outputs": [
    {
     "data": {
      "text/plain": [
       "1.0"
      ]
     },
     "execution_count": 5,
     "metadata": {},
     "output_type": "execute_result"
    }
   ],
   "source": [
    "np.max(data_train[0])"
   ]
  },
  {
   "attachments": {},
   "cell_type": "markdown",
   "metadata": {},
   "source": [
    "Top 10 Images"
   ]
  },
  {
   "cell_type": "code",
   "execution_count": 6,
   "metadata": {},
   "outputs": [
    {
     "name": "stdout",
     "output_type": "stream",
     "text": [
      "[6 0 1 ... 1 2 2]\n"
     ]
    }
   ],
   "source": [
    "print(label_train)\n",
    "\n",
    "label_dict = {\n",
    " 0: 'T-shirt/top',\n",
    " 1: 'Trouser',\n",
    " 2: 'Pullover',\n",
    " 3: 'Dress',\n",
    " 4: 'Coat',\n",
    " 5: 'Sandal',\n",
    " 6: 'Shirt',\n",
    " 7: 'Sneaker',\n",
    " 8: 'Bag',\n",
    " 9: 'Ankle boot',\n",
    "}"
   ]
  },
  {
   "attachments": {},
   "cell_type": "markdown",
   "metadata": {},
   "source": [
    "## Preprocessing Steps"
   ]
  },
  {
   "attachments": {},
   "cell_type": "markdown",
   "metadata": {},
   "source": [
    "1. Calculate the mean of the training sample\n",
    "2. Apply standardisation of the train and test data by subtracting the mean\n",
    "3. Apply EVD to the dataset\n",
    "2. Pick the number of eigenvectors to reduce the dimensionality of the data and explain >90% of the image variance."
   ]
  },
  {
   "cell_type": "code",
   "execution_count": 7,
   "metadata": {},
   "outputs": [],
   "source": [
    "X = data_train - np.mean(data_train,axis=0)\n",
    "U, s, Vt = scipy.linalg.svd(X, full_matrices=False)"
   ]
  },
  {
   "cell_type": "code",
   "execution_count": 8,
   "metadata": {},
   "outputs": [
    {
     "data": {
      "image/png": "[encoded data removed]",
      "text/plain": [
       "<Figure size 144x144 with 1 Axes>"
      ]
     },
     "metadata": {
      "needs_background": "light"
     },
     "output_type": "display_data"
    }
   ],
   "source": [
    "def showimg(imvec):\n",
    "    plt.figure(figsize=(2,2))\n",
    "    img = np.reshape(imvec,(28,28)) # convert vectorized data point t \n",
    "    plt.imshow( img.T , cmap=\"gray\") \n",
    "\n",
    "mean_image = np.apply_along_axis(np.mean, 0, X)\n",
    "showimg(mean_image)"
   ]
  },
  {
   "cell_type": "code",
   "execution_count": 9,
   "metadata": {},
   "outputs": [],
   "source": [
    "# To initialise the different values of k/dimensions\n",
    "# Source: https://www.math.uci.edu/~isik/teaching/17W_MATH9/notes/Lecture25.html\n",
    "X = data_train - np.mean(data_train,axis=0)\n",
    "U, s, Vt = scipy.linalg.svd(X, full_matrices=False)\n",
    "W = U.dot(np.diag(s))\n",
    "approxes = [W[:,:k].dot(Vt[:k,:]) for k in [1,10,50,100,200,500]]"
   ]
  },
  {
   "attachments": {},
   "cell_type": "markdown",
   "metadata": {},
   "source": [
    "How much does eigenvectors best approximates the images?\n",
    "100 eigenvectors appears sufficient to capture the main components of the images"
   ]
  },
  {
   "cell_type": "code",
   "execution_count": 10,
   "metadata": {},
   "outputs": [
    {
     "data": {
      "image/png": "[encoded data removed]",
      "text/plain": [
       "<Figure size 1008x144 with 6 Axes>"
      ]
     },
     "metadata": {},
     "output_type": "display_data"
    },
    {
     "data": {
      "image/png": "[encoded data removed]",
      "text/plain": [
       "<Figure size 1008x144 with 6 Axes>"
      ]
     },
     "metadata": {},
     "output_type": "display_data"
    },
    {
     "data": {
      "image/png": "[encoded data removed]",
      "text/plain": [
       "<Figure size 1008x144 with 6 Axes>"
      ]
     },
     "metadata": {},
     "output_type": "display_data"
    },
    {
     "data": {
      "image/png": "[encoded data removed]",
      "text/plain": [
       "<Figure size 1008x144 with 6 Axes>"
      ]
     },
     "metadata": {},
     "output_type": "display_data"
    },
    {
     "data": {
      "image/png": "[encoded data removed]",
      "text/plain": [
       "<Figure size 1008x144 with 6 Axes>"
      ]
     },
     "metadata": {},
     "output_type": "display_data"
    },
    {
     "data": {
      "image/png": "[encoded data removed]",
      "text/plain": [
       "<Figure size 1008x144 with 6 Axes>"
      ]
     },
     "metadata": {},
     "output_type": "display_data"
    }
   ],
   "source": [
    "number_image=100\n",
    "for i in range(number_image,number_image+6):\n",
    "    im1 = X[i,:] - mean_image\n",
    "    im2 = approxes[0][i , : ]\n",
    "    im3 = approxes[1][i , : ]\n",
    "    im4 = approxes[2][i , : ]\n",
    "    im5 = approxes[3][i , : ]\n",
    "    im6 = approxes[4][i , : ]\n",
    "    fig, axes = plt.subplots(1, 6, figsize=(14,2),subplot_kw={'xticks': [], 'yticks': []})\n",
    "    axx = axes.flat\n",
    "    img = np.reshape(im1,(28,28)) # convert vectorized data point t\n",
    "    axx[0].imshow(img.T, cmap=\"gray\")\n",
    "    img = np.reshape(im2,(28,28)) # convert vectorized data point t\n",
    "    axx[1].imshow(img.T, cmap=\"gray\")\n",
    "    img = np.reshape(im3,(28,28)) # convert vectorized data point t\n",
    "    axx[2].imshow(img.T, cmap=\"gray\")\n",
    "    img = np.reshape(im4,(28,28)) # convert vectorized data point t\n",
    "    axx[3].imshow(img.T, cmap=\"gray\")\n",
    "    img = np.reshape(im5,(28,28)) # convert vectorized data point t\n",
    "    axx[4].imshow(img.T, cmap=\"gray\")\n",
    "    img = np.reshape(im6,(28,28)) # convert vectorized data point t\n",
    "    axx[5].imshow(img.T, cmap=\"gray\")"
   ]
  },
  {
   "cell_type": "code",
   "execution_count": 11,
   "metadata": {},
   "outputs": [
    {
     "data": {
      "text/plain": [
       "array([0.29077053, 0.468063  , 0.5282023 , 0.5775688 , 0.61584735,\n",
       "       0.6503534 , 0.6739511 , 0.6927125 , 0.7062683 , 0.71936595,\n",
       "       0.72922844, 0.73833823, 0.7460148 , 0.75259465, 0.7586697 ,\n",
       "       0.76455945, 0.77011746, 0.7754284 , 0.78004336, 0.78460777,\n",
       "       0.7889165 , 0.7929697 , 0.79682255, 0.8005391 , 0.8041775 ,\n",
       "       0.8077132 , 0.811047  , 0.81425166, 0.81734025, 0.8202482 ,\n",
       "       0.82302713, 0.825706  , 0.8283391 , 0.83089125, 0.8333651 ,\n",
       "       0.83573097, 0.8380311 , 0.8402824 , 0.8424771 , 0.8445888 ,\n",
       "       0.8466037 , 0.84856176, 0.85048956, 0.85231894, 0.8540603 ,\n",
       "       0.8557838 , 0.8574639 , 0.8591192 , 0.86073107, 0.862286  ,\n",
       "       0.86382294, 0.8653343 , 0.8668079 , 0.86824   , 0.86961585,\n",
       "       0.87097967, 0.8722923 , 0.8735786 , 0.87485087, 0.8761035 ,\n",
       "       0.8773289 , 0.8785299 , 0.8797151 , 0.8808809 , 0.8820341 ,\n",
       "       0.8831617 , 0.8842748 , 0.88537836, 0.88643926, 0.8874936 ,\n",
       "       0.8885253 , 0.88953364, 0.8905211 , 0.8914869 , 0.8924312 ,\n",
       "       0.8933636 , 0.8942921 , 0.8951936 , 0.8960905 , 0.8969704 ,\n",
       "       0.89783937, 0.8986815 , 0.8995141 , 0.90033054, 0.9011409 ,\n",
       "       0.9019405 , 0.90272516, 0.903497  , 0.9042613 , 0.90502316,\n",
       "       0.9057699 , 0.9065126 , 0.9072508 , 0.90797377, 0.9086872 ,\n",
       "       0.909395  , 0.91009384, 0.91077715, 0.9114484 , 0.9121189 ],\n",
       "      dtype=float32)"
      ]
     },
     "execution_count": 11,
     "metadata": {},
     "output_type": "execute_result"
    }
   ],
   "source": [
    "train_svd = data_train - np.mean(data_train,axis=0)\n",
    "test_svd = data_test - np.mean(data_train,axis=0)\n",
    "\n",
    "# Singular-value decomposition\n",
    "U, s, Vt = np.linalg.svd(train_svd, full_matrices=False)\n",
    "S = np.diag(s)\n",
    "\n",
    "var = np.transpose(S).dot(S) # calculate variance\n",
    "tot_var = np.sum(np.diag(var)) # calculate total variance\n",
    "prop_var = np.diag(var) / tot_var\n",
    "\n",
    "#90% of variance is explained in first 100 eigenvectors\n",
    "np.cumsum(prop_var[0:100])"
   ]
  },
  {
   "attachments": {},
   "cell_type": "markdown",
   "metadata": {},
   "source": [
    "## Eigenvalue Decomposition"
   ]
  },
  {
   "attachments": {},
   "cell_type": "markdown",
   "metadata": {},
   "source": [
    "As seen 90% of variance is explained in first 100 singular values, however to be safe I will choose 200 eigenvectors as through the image analysis this better captures the image shapes. I choose EVD for the final result as it seemed to produce a better classifier for Naive Bayes."
   ]
  },
  {
   "cell_type": "code",
   "execution_count": 12,
   "metadata": {},
   "outputs": [],
   "source": [
    "# Eigenvalue Decomposition\n",
    "train_evd = data_train - np.mean(data_train,axis=0) # subtracting mean from training set to normalise the data\n",
    "test_evd = data_test - np.mean(data_train,axis=0)\n",
    "\n",
    "cov = np.cov(train_evd.T) / train_evd.shape[0]\n",
    "S,V = np.linalg.eig(cov)\n",
    "idx = S.argsort()[::-1]\n",
    "S = S[idx]\n",
    "V = V[:,idx]"
   ]
  },
  {
   "cell_type": "code",
   "execution_count": 13,
   "metadata": {},
   "outputs": [
    {
     "name": "stdout",
     "output_type": "stream",
     "text": [
      "(5000, 200)\n",
      "(30000, 200)\n",
      "(5000, 200)\n",
      "(30000, 784)\n",
      "(784,)\n",
      "(784, 784)\n",
      "If we choose 200 dominant eigenvalue/s;\n",
      " compresion ratio = 0.2617772109\n",
      "\n",
      "\n"
     ]
    }
   ],
   "source": [
    "# reduced feature space\n",
    "n_components=200\n",
    "X_hat_reconstructed=X.dot(V[:, :n_components])\n",
    "data_test_reconstructed=test_evd.dot(V[:, :n_components]) # apply same dimension reduction to test data\n",
    "\n",
    "print(data_test_reconstructed.shape)\n",
    "print(X_hat_reconstructed.shape)\n",
    "print(data_test_reconstructed.shape)\n",
    "print(U.shape)\n",
    "print(S.shape)\n",
    "print(Vt.shape)\n",
    "\n",
    "comp_ratio = (train_evd.shape[1]*n_components + n_components + train_evd.shape[0]*n_components)/(train_evd.shape[1]\n",
    "                                                                                                 * train_evd.shape[0])\n",
    "print('If we choose {} dominant eigenvalue/s;\\n compresion ratio = {}\\n\\n'\\\n",
    "      .format(n_components, np.round(comp_ratio,10)))"
   ]
  },
  {
   "cell_type": "code",
   "execution_count": 14,
   "metadata": {},
   "outputs": [
    {
     "name": "stdout",
     "output_type": "stream",
     "text": [
      "[[-1.66347483 -3.47519027 -0.20321187 ...  0.04846728 -0.0329212\n",
      "   0.0117133 ]\n",
      " [-3.91329683 -3.92262378  1.70443067 ... -0.12292802 -0.03975063\n",
      "  -0.02172229]\n",
      " [-2.03330226 -4.37266389  1.6298531  ...  0.02308374 -0.01590198\n",
      "   0.01894908]\n",
      " ...\n",
      " [ 1.99038943 -5.20354535  0.65885024 ... -0.0312611   0.09232539\n",
      "   0.14946474]\n",
      " [-6.06489987 -0.0508494  -0.5898383  ... -0.1371685  -0.10429448\n",
      "  -0.03660177]\n",
      " [ 0.0502334   0.8993244  -2.31904159 ...  0.09740993  0.02000374\n",
      "  -0.02520966]]\n",
      "(30000, 200)\n"
     ]
    }
   ],
   "source": [
    "print(X_hat_reconstructed)\n",
    "print(X_hat_reconstructed.shape)"
   ]
  },
  {
   "cell_type": "code",
   "execution_count": 15,
   "metadata": {},
   "outputs": [],
   "source": [
    "train_X = X_hat_reconstructed + np.mean(data_train)\n",
    "test_X=data_test_reconstructed + np.mean(data_train)"
   ]
  },
  {
   "attachments": {},
   "cell_type": "markdown",
   "metadata": {},
   "source": [
    "## K Nearest Neighbour Classifier"
   ]
  },
  {
   "attachments": {},
   "cell_type": "markdown",
   "metadata": {},
   "source": [
    "KNN Classification Steps:\n",
    "(data is already scaled)\n",
    "1. Split the train dataset into 80% training and 20% validation data\n",
    "1. Calculate the distance between a test data point and training data point\n",
    "2. Sort the distances and pick K nearest neighbours\n",
    "3. Given the labels of the selected K neighbors.\n",
    "4. Use pandas crosstab to build confusion matrix"
   ]
  },
  {
   "attachments": {},
   "cell_type": "markdown",
   "metadata": {},
   "source": [
    "## Finding K from Validation Set Comparison"
   ]
  },
  {
   "cell_type": "code",
   "execution_count": 16,
   "metadata": {},
   "outputs": [
    {
     "name": "stdout",
     "output_type": "stream",
     "text": [
      "(25000, 200)\n",
      "(5000, 200)\n",
      "(25000,)\n",
      "(5000,)\n"
     ]
    }
   ],
   "source": [
    "np.random.seed(5003)\n",
    "\n",
    "#30,000 train split into 80% train 20% validation\n",
    "X_train=train_X[0:25000]\n",
    "X_validation=train_X[25000:30000]\n",
    "y_train=label_train[0:25000]\n",
    "y_validation=label_train[25000:30000]\n",
    "\n",
    "print(X_train.shape)\n",
    "print(X_validation.shape)\n",
    "print(y_train.shape)\n",
    "print(y_validation.shape)"
   ]
  },
  {
   "cell_type": "code",
   "execution_count": 17,
   "metadata": {},
   "outputs": [],
   "source": [
    "# Accuracy of validation of KNN\n",
    "def manhattan_distance(X_train, X_validation):\n",
    "    return np.linalg.norm(X_validation-X_train,ord=1)\n",
    "\n",
    "def euclidean_distance(X_train, X_validation):\n",
    "    return np.linalg.norm(X_validation-X_train[i])\n",
    "\n",
    "def cosine_distance(X_train, X_validation):\n",
    "    return np.dot(X_validation,X_train)/np.linalg.norm(X_validation)/np.linalg.norm(X_train)\n",
    "\n",
    "import operator\n",
    "def get_neighbours(X_train, X_validation, k):\n",
    "    distances = []\n",
    "    neighbors = []    \n",
    "    for i in range(0, X_validation.shape[0]):\n",
    "        dist = euclidean_distance(X_train[i], X_validation)\n",
    "        distances.append((i, dist))\n",
    "        distances.sort(key=operator.itemgetter(1))\n",
    "    for x in range(k):\n",
    "        neighbors.append(distances[x][0])\n",
    "    return neighbors\n",
    "\n",
    "def predictkNNClass(output, Y_validation):\n",
    "    classVotes = {}\n",
    "    for i in range(len(output)):\n",
    "#         print output[i], y_train[output[i]]\n",
    "        if Y_validation[output[i]] in classVotes:\n",
    "            classVotes[Y_validation[output[i]]] += 1\n",
    "        else:\n",
    "            classVotes[Y_validation[output[i]]] = 1\n",
    "    sortedVotes = sorted(classVotes.items(), key=operator.itemgetter(1), reverse=True)\n",
    "    return sortedVotes[0][0]\n",
    "\n",
    "def kNN_test(X_train, X_validation, y_train, y_validation, k):\n",
    "    output_classes = []\n",
    "    for i in range(0, X_validation.shape[0]):\n",
    "        output = get_neighbours(X_train, X_validation[i], k)\n",
    "        predictedClass = predictkNNClass(output, y_validation)\n",
    "        output_classes.append(predictedClass)\n",
    "    return output_classes\n",
    "\n",
    "def prediction_accuracy(predicted_labels, original_labels):\n",
    "    count = 0\n",
    "    for i in range(len(predicted_labels)):\n",
    "        if predicted_labels[i] == original_labels[i]:\n",
    "            count += 1\n",
    "    return float(count)/len(predicted_labels)*100"
   ]
  },
  {
   "attachments": {},
   "cell_type": "markdown",
   "metadata": {},
   "source": [
    "If you want to see the k selection then run the 2 cells below."
   ]
  },
  {
   "cell_type": "code",
   "execution_count": 18,
   "metadata": {},
   "outputs": [],
   "source": [
    "# Validation tuning\n",
    "# t0=datetime.now()\n",
    "# predicted_classes = {}\n",
    "# final_accuracies = {}\n",
    "#for k in range(1,25):\n",
    " #   predicted_classes[k] = kNN_test(X_train, X_validation, y_train, y_validation, k)\n",
    "  #  final_accuracies[k] = prediction_accuracy(predicted_classes[k], y_validation)\n",
    "# print(\"Time to compute accuracy: \",(datetime.now()-t0))"
   ]
  },
  {
   "cell_type": "code",
   "execution_count": 19,
   "metadata": {},
   "outputs": [],
   "source": [
    "# final_accuracies"
   ]
  },
  {
   "attachments": {},
   "cell_type": "markdown",
   "metadata": {},
   "source": [
    "## Running KNN on Test Data"
   ]
  },
  {
   "cell_type": "code",
   "execution_count": 20,
   "metadata": {},
   "outputs": [],
   "source": [
    "# Re-running so the training data is not split anymore\n",
    "train_X = X_hat_reconstructed + np.mean(data_train)\n",
    "test_X=data_test_reconstructed + np.mean(data_train)"
   ]
  },
  {
   "cell_type": "code",
   "execution_count": 21,
   "metadata": {},
   "outputs": [],
   "source": [
    "#since we only have 2000 labeled data have to re-run the prediction function\n",
    "def prediction_accuracy(predicted_labels, original_labels):\n",
    "    count = 0\n",
    "    for i in range(len(predicted_labels)):\n",
    "        if predicted_labels[i] == original_labels[i]:\n",
    "            count += 1\n",
    "    #print count, len(predicted_labels)\n",
    "    return float(count)/len(predicted_labels)*100"
   ]
  },
  {
   "cell_type": "code",
   "execution_count": 22,
   "metadata": {},
   "outputs": [
    {
     "name": "stdout",
     "output_type": "stream",
     "text": [
      "KNN classification accuracy 14.099999999999998\n",
      "Time to compute accuracy:  0:04:33.664280\n",
      "Predicted   0   1   2   3    4   5   6   7  8   9\n",
      "Actual                                           \n",
      "0          39   2  15   0   97  22   0   6  5   6\n",
      "1          11   0   6   0  148  15   0   2  2   0\n",
      "2          25   1  13   0  149  12   0   1  4   1\n",
      "3          22   0   5   0  163   9   0   3  4   1\n",
      "4          23   1  13   0  156  13   0   6  7   1\n",
      "5          42  17   5   4   27  34   7  13  4  37\n",
      "6          41   0  14   0   93  25   1   7  5   4\n",
      "7          51   9   7   0   22  43   6   8  6  40\n",
      "8          54   8  11   0  110  23   1   6  5   9\n",
      "9          12  15   1  25   27  10  27  23  2  50\n"
     ]
    },
    {
     "data": {
      "text/plain": [
       "{0: 'T-shirt/top',\n",
       " 1: 'Trouser',\n",
       " 2: 'Pullover',\n",
       " 3: 'Dress',\n",
       " 4: 'Coat',\n",
       " 5: 'Sandal',\n",
       " 6: 'Shirt',\n",
       " 7: 'Sneaker',\n",
       " 8: 'Bag',\n",
       " 9: 'Ankle boot'}"
      ]
     },
     "execution_count": 22,
     "metadata": {},
     "output_type": "execute_result"
    }
   ],
   "source": [
    "# After final value of K generate prediction on test set\n",
    "t0=datetime.now()\n",
    "\n",
    "predicted_classes = {}\n",
    "final_accuracies = {}\n",
    "for k in range(1,20):\n",
    "    predicted_classes[k] = kNN_test(train_X, test_X, label_train, label_test, k)\n",
    "    final_accuracies[k] = prediction_accuracy(predicted_classes[k][0:2000], label_test)\n",
    "\n",
    "print(\"KNN classification accuracy\",prediction_accuracy(predicted_classes[k][0:2000], label_test))\n",
    "print(\"Time to compute accuracy: \",(datetime.now()-t0))\n",
    "\n",
    "y_pred=pd.Series(predicted_classes[14])\n",
    "y_actual=pd.Series(label_test)\n",
    "confusion_matrix = pd.crosstab(y_actual,y_pred,rownames=['Actual'], colnames=['Predicted'])\n",
    "print(confusion_matrix)\n",
    "label_dict"
   ]
  },
  {
   "attachments": {},
   "cell_type": "markdown",
   "metadata": {},
   "source": [
    "## Naive Bayes Implementation"
   ]
  },
  {
   "cell_type": "code",
   "execution_count": 23,
   "metadata": {},
   "outputs": [
    {
     "name": "stdout",
     "output_type": "stream",
     "text": [
      "(30000, 50)\n",
      "(5000, 50)\n",
      "(30000, 784)\n",
      "(784,)\n",
      "(784, 784)\n"
     ]
    }
   ],
   "source": [
    "# Re-do dimension reduction with smaller number of components\n",
    "# Eigenvalue Decomposition\n",
    "train_evd = data_train - np.mean(data_train,axis=0)\n",
    "test_evd = data_test - np.mean(data_train,axis=0)\n",
    "\n",
    "# Test\n",
    "cov = np.cov(train_evd.T) / train_evd.shape[0]\n",
    "S,V = np.linalg.eig(cov)\n",
    "idx = S.argsort()[::-1]\n",
    "S = S[idx]\n",
    "V = V[:,idx]\n",
    "\n",
    "# reduced feature space\n",
    "k=50\n",
    "X_hat_reconstructed_NB=train_evd.dot(V[:, :k])\n",
    "data_test_reconstructed_NB=test_evd.dot(V[:, :k]) \n",
    "\n",
    "print(X_hat_reconstructed_NB.shape)\n",
    "print(data_test_reconstructed_NB.shape)\n",
    "print(U.shape)\n",
    "print(S.shape)\n",
    "print(Vt.shape)"
   ]
  },
  {
   "cell_type": "code",
   "execution_count": 24,
   "metadata": {},
   "outputs": [
    {
     "name": "stdout",
     "output_type": "stream",
     "text": [
      "(30000, 50)\n",
      "(5000, 50)\n",
      "(30000,)\n",
      "(2000,)\n"
     ]
    }
   ],
   "source": [
    "X_train_NB= X_hat_reconstructed_NB + np.mean(data_train)\n",
    "X_test_NB=data_test_reconstructed_NB + np.mean(data_train)\n",
    "\n",
    "print(X_train_NB.shape)\n",
    "print(X_test_NB.shape)\n",
    "print(label_train.shape)\n",
    "print(label_test.shape)"
   ]
  },
  {
   "cell_type": "code",
   "execution_count": 25,
   "metadata": {},
   "outputs": [
    {
     "name": "stdout",
     "output_type": "stream",
     "text": [
      "(25000, 50)\n",
      "(5000, 50)\n",
      "(25000,)\n",
      "(5000,)\n"
     ]
    }
   ],
   "source": [
    "np.random.seed(50035)\n",
    "\n",
    "#30,000 train split into 80% train 20% validation\n",
    "X_train=X_train_NB[0:25000]\n",
    "X_validation=X_train_NB[25000:30000]\n",
    "y_train=label_train[0:25000]\n",
    "y_validation=label_train[25000:30000]\n",
    "\n",
    "print(X_train.shape)\n",
    "print(X_validation.shape)\n",
    "print(y_train.shape)\n",
    "print(y_validation.shape)"
   ]
  },
  {
   "cell_type": "code",
   "execution_count": 26,
   "metadata": {},
   "outputs": [
    {
     "name": "stdout",
     "output_type": "stream",
     "text": [
      "NB classification accuracy 78.42\n",
      "Time to compute accuracy:  0:00:00.113728\n"
     ]
    }
   ],
   "source": [
    "# Source: https://machinelearningmastery.com/naive-bayes-classifier-scratch-python/\n",
    "# https://hackernoon.com/implementation-of-gaussian-naive-bayes-in-python-from-scratch-c4ea64e3944d\n",
    "from scipy.stats import norm\n",
    "from scipy.stats import multivariate_normal as mvn\n",
    "\n",
    "class NaiveBayes(object):\n",
    "    def fit(self, X, Y, smoothing=0):\n",
    "        self.gaussians = dict()\n",
    "        self.priors=dict()\n",
    "        labels=set(Y)\n",
    "        for c in labels:\n",
    "            current_x=X[Y==c]\n",
    "            self.gaussians[c]={\n",
    "            'mean':current_x.mean(axis=0), # Mean for each digit.\n",
    "            'var' : current_x.var(axis=0)+smoothing \n",
    "            }\n",
    "            self.priors[c] = float(len(Y[Y==c]))/len(Y)\n",
    "        return self.priors\n",
    "    \n",
    "    def predict(self,X):\n",
    "        N,D = X.shape\n",
    "        K = len(self.gaussians)\n",
    "        P = np.zeros((N,K))\n",
    "        for c,g in self.gaussians.items():\n",
    "            mean, var = g['mean'], g['var']\n",
    "            P[:,c] = mvn.logpdf(X, mean=mean, cov=var) + np.log(self.priors[c])\n",
    "            # calculating N log pdfs at the same time\n",
    "            predictions = np.argmax(P, axis=1)\n",
    "        return predictions # return N size array\n",
    "    \n",
    "    def accuracy(self,y_true,y_pred):\n",
    "        accuracy = np.sum(y_true==y_pred)/len(y_true)*100\n",
    "        return accuracy\n",
    "\n",
    "# defining to run on validation datasets\n",
    "\n",
    "t0=datetime.now()\n",
    "\n",
    "nb=NaiveBayes()\n",
    "nb.fit(X_train,y_train)\n",
    "predictions=nb.predict(X_validation)\n",
    "nb.accuracy(y_validation, predictions)\n",
    "\n",
    "print(\"NB classification accuracy\",nb.accuracy(y_validation, predictions))\n",
    "print(\"Time to compute accuracy: \",(datetime.now()-t0))"
   ]
  },
  {
   "cell_type": "code",
   "execution_count": 27,
   "metadata": {},
   "outputs": [
    {
     "name": "stdout",
     "output_type": "stream",
     "text": [
      "NB classification accuracy 76.35\n",
      "Time to compute accuracy:  0:00:00.057846\n",
      "Predicted    0    1    2    3    4    5    6    7    8    9\n",
      "Actual                                                     \n",
      "0          137    0    8   16    3    0   20    0    8    0\n",
      "1            1  168    2    9    0    0    2    0    2    0\n",
      "2            3    0  130    2   24    0   44    0    3    0\n",
      "3           13    1    0  162    6    1   19    0    5    0\n",
      "4            1    0   30   12  134    1   36    0    6    0\n",
      "5            0    0    0    1    0  150    1   28    6    4\n",
      "6           29    0   18   14   13    0  104    0   12    0\n",
      "7            0    0    0    0    0    8    0  165    0   19\n",
      "8            2    0    1    2    1   11   11    4  194    1\n",
      "9            0    0    0    0    0    5    0    4    0  183\n"
     ]
    },
    {
     "data": {
      "text/plain": [
       "{0: 'T-shirt/top',\n",
       " 1: 'Trouser',\n",
       " 2: 'Pullover',\n",
       " 3: 'Dress',\n",
       " 4: 'Coat',\n",
       " 5: 'Sandal',\n",
       " 6: 'Shirt',\n",
       " 7: 'Sneaker',\n",
       " 8: 'Bag',\n",
       " 9: 'Ankle boot'}"
      ]
     },
     "execution_count": 27,
     "metadata": {},
     "output_type": "execute_result"
    }
   ],
   "source": [
    "# Confusion Matrix of test set\n",
    "t0=datetime.now()\n",
    "\n",
    "nb=NaiveBayes()\n",
    "nb.fit(X_train_NB,label_train)\n",
    "predictions=nb.predict(X_test_NB[0:2000])\n",
    "\n",
    "print(\"NB classification accuracy\",nb.accuracy(label_test, predictions))\n",
    "print(\"Time to compute accuracy: \",(datetime.now()-t0))\n",
    "\n",
    "y_pred_NB=pd.Series(predictions)\n",
    "y_actual_NB=pd.Series(label_test)\n",
    "confusion_matrix_NB = pd.crosstab(y_actual_NB,y_pred_NB,rownames=['Actual'], colnames=['Predicted'])\n",
    "print(confusion_matrix_NB)\n",
    "label_dict"
   ]
  },
  {
   "attachments": {},
   "cell_type": "markdown",
   "metadata": {},
   "source": [
    "## Multinomial Logistic Regression"
   ]
  },
  {
   "attachments": {},
   "cell_type": "markdown",
   "metadata": {},
   "source": [
    "Multinomial Logistic Regression Steps:\n",
    "1.\tAssign each feature vector a probability vector through the softmax function\n",
    "2.\tCompute the parameter vector and selects the highest probability as the predicted label \n",
    "3.\tMinimise loss function through gradient descent"
   ]
  },
  {
   "cell_type": "code",
   "execution_count": 28,
   "metadata": {},
   "outputs": [
    {
     "name": "stdout",
     "output_type": "stream",
     "text": [
      "(30000, 200)\n",
      "(5000, 200)\n",
      "(30000, 784)\n",
      "(784,)\n",
      "(784, 784)\n"
     ]
    }
   ],
   "source": [
    "# Re-do dimension reduction with smaller number of components\n",
    "# Eigenvalue Decomposition\n",
    "train_evd = data_train - np.mean(data_train,axis=0)\n",
    "test_evd = data_test - np.mean(data_train,axis=0)\n",
    "\n",
    "# Test\n",
    "cov = np.cov(train_evd.T) / train_evd.shape[0]\n",
    "S,V = np.linalg.eig(cov)\n",
    "idx = S.argsort()[::-1]\n",
    "S = S[idx]\n",
    "V = V[:,idx]\n",
    "\n",
    "# reduced feature space\n",
    "k=200\n",
    "X_hat_reconstructed_LR=train_evd.dot(V[:, :k])\n",
    "data_test_reconstructed_LR=test_evd.dot(V[:, :k]) \n",
    "\n",
    "print(X_hat_reconstructed_LR.shape)\n",
    "print(data_test_reconstructed_LR.shape)\n",
    "print(U.shape)\n",
    "print(S.shape)\n",
    "print(Vt.shape)"
   ]
  },
  {
   "cell_type": "code",
   "execution_count": 29,
   "metadata": {},
   "outputs": [
    {
     "name": "stdout",
     "output_type": "stream",
     "text": [
      "(30000, 200)\n",
      "(5000, 200)\n",
      "(30000,)\n",
      "(2000,)\n"
     ]
    }
   ],
   "source": [
    "X_train_LR= X_hat_reconstructed_LR + np.mean(data_train)\n",
    "X_test_LR=data_test_reconstructed_LR + np.mean(data_train)\n",
    "\n",
    "print(X_train_LR.shape)\n",
    "print(X_test_LR.shape)\n",
    "print(label_train.shape)\n",
    "print(label_test.shape)"
   ]
  },
  {
   "cell_type": "code",
   "execution_count": 30,
   "metadata": {},
   "outputs": [
    {
     "name": "stdout",
     "output_type": "stream",
     "text": [
      "(25000, 200)\n",
      "(5000, 200)\n",
      "(25000,)\n",
      "(5000,)\n"
     ]
    }
   ],
   "source": [
    "np.random.seed(50034)\n",
    "\n",
    "#30,000 train split into 80% train 20% validation\n",
    "X_train=X_train_LR[0:25000]\n",
    "X_validation=X_train_LR[25000:30000]\n",
    "y_train=label_train[0:25000]\n",
    "y_validation=label_train[25000:30000]\n",
    "\n",
    "print(X_train.shape)\n",
    "print(X_validation.shape)\n",
    "print(y_train.shape)\n",
    "print(y_validation.shape)"
   ]
  },
  {
   "cell_type": "code",
   "execution_count": 31,
   "metadata": {},
   "outputs": [],
   "source": [
    "# Source: https://www.kaggle.com/synnfusion/softmax-on-mnist-from-scratch\n",
    "# bias term\n",
    "def augment_feature_vector(X):\n",
    "    return np.hstack((np.ones([len(X), 1]), X))\n",
    "\n",
    "def vectorized_compute_probabilities(X, theta):\n",
    "    #H - a (kxn) matrix (numpy array) such that each column of H represents the probabilities that the ith\n",
    "    #data point takes on each label.\n",
    "    \n",
    "    theta_XT = np.matmul(theta, np.transpose(X))\n",
    "    c = np.amax(theta_XT, axis = 0)\n",
    "    exp_matrix = np.exp(theta_XT - c)\n",
    "    sum_vector = np.sum(exp_matrix, axis = 0)\n",
    "    \n",
    "    return exp_matrix/sum_vector\n",
    "    \n",
    "import scipy.sparse as sparse\n",
    "\n",
    "def gradient_descent_iteration(X, Y, theta, alpha, lambda_factor):\n",
    "    \n",
    "    n = len(Y)\n",
    "    k = theta.shape[0]\n",
    "    data = [1]*n\n",
    "    \n",
    "    H = vectorized_compute_probabilities(X, theta)\n",
    "    M = sparse.coo_matrix((data, (Y, range(n))), shape=(k,n)).toarray()\n",
    "    \n",
    "    first_term = np.matmul(M-H, X)*(-1/n)\n",
    "    second_term = lambda_factor * theta\n",
    "\n",
    "    return theta - alpha * (first_term + second_term)\n",
    "\n",
    "def predict(X, theta):\n",
    "\n",
    "    X = augment_feature_vector(X)\n",
    "    probabilities = vectorized_compute_probabilities(X, theta)\n",
    "    return np.argmax(probabilities, axis = 0)\n",
    "\n",
    "def compute_accuracy(X, Y, theta):\n",
    "    predictions = predict(X, theta)\n",
    "    return np.mean(predictions == Y)*100\n",
    "\n",
    "def compute_accuracy_all(X, theta):\n",
    "    predictions_all = predict(X, theta)\n",
    "    return predictions_all\n",
    "\n",
    "def softmax_regression(X, Y, alpha, lambda_factor, k, num_iterations):   \n",
    "    \n",
    "    X = augment_feature_vector(X)\n",
    "    theta = np.zeros([k, X.shape[1]])\n",
    "    for i in range(num_iterations):\n",
    "        theta = gradient_descent_iteration(X, Y, theta, alpha, lambda_factor)\n",
    "    \n",
    "    return theta"
   ]
  },
  {
   "cell_type": "code",
   "execution_count": 32,
   "metadata": {},
   "outputs": [
    {
     "name": "stdout",
     "output_type": "stream",
     "text": [
      "NB classification accuracy 85.84\n",
      "Time to compute accuracy:  0:00:27.771647\n"
     ]
    }
   ],
   "source": [
    "t0=datetime.now()\n",
    "theta_final = softmax_regression(X_train, y_train, alpha = .3\n",
    "                        ,  lambda_factor = 0.0001  # the weight\n",
    "                        , k = 10 #number of labels\n",
    "                        , num_iterations = 1000) # steps to gradient descent\n",
    "print(\"NB classification accuracy\",compute_accuracy(X_validation, y_validation, theta_final))\n",
    "print(\"Time to compute accuracy: \",(datetime.now()-t0))"
   ]
  },
  {
   "cell_type": "code",
   "execution_count": 33,
   "metadata": {},
   "outputs": [
    {
     "name": "stdout",
     "output_type": "stream",
     "text": [
      "Multinomial LR classification accuracy 83.89999999999999\n",
      "Time to compute accuracy:  0:00:35.124691\n",
      "Predicted    0    1    2    3    4    5    6    7    8    9\n",
      "Actual                                                     \n",
      "0          137    0    8   16    3    0   20    0    8    0\n",
      "1            1  168    2    9    0    0    2    0    2    0\n",
      "2            3    0  130    2   24    0   44    0    3    0\n",
      "3           13    1    0  162    6    1   19    0    5    0\n",
      "4            1    0   30   12  134    1   36    0    6    0\n",
      "5            0    0    0    1    0  150    1   28    6    4\n",
      "6           29    0   18   14   13    0  104    0   12    0\n",
      "7            0    0    0    0    0    8    0  165    0   19\n",
      "8            2    0    1    2    1   11   11    4  194    1\n",
      "9            0    0    0    0    0    5    0    4    0  183\n"
     ]
    },
    {
     "data": {
      "text/plain": [
       "{0: 'T-shirt/top',\n",
       " 1: 'Trouser',\n",
       " 2: 'Pullover',\n",
       " 3: 'Dress',\n",
       " 4: 'Coat',\n",
       " 5: 'Sandal',\n",
       " 6: 'Shirt',\n",
       " 7: 'Sneaker',\n",
       " 8: 'Bag',\n",
       " 9: 'Ankle boot'}"
      ]
     },
     "execution_count": 33,
     "metadata": {},
     "output_type": "execute_result"
    }
   ],
   "source": [
    "# compute accuracy on test data and full train data\n",
    "t0=datetime.now()\n",
    "theta_final = softmax_regression(X_train_LR, label_train, alpha = .3\n",
    "                        ,  lambda_factor = 0.0001  # the weight\n",
    "                        , k = 10 #number of labels\n",
    "                        , num_iterations = 1000) # steps to gradient descent\n",
    "print(\"Multinomial LR classification accuracy\",compute_accuracy(X_test_LR[0:2000], label_test, theta_final))\n",
    "print(\"Time to compute accuracy: \",(datetime.now()-t0))\n",
    "y_pred=pd.Series(predictions)\n",
    "y_actual=pd.Series(label_test)\n",
    "confusion_matrix = pd.crosstab(y_actual,y_pred,rownames=['Actual'], colnames=['Predicted'])\n",
    "print(confusion_matrix)\n",
    "label_dict"
   ]
  },
  {
   "cell_type": "code",
   "execution_count": 34,
   "metadata": {},
   "outputs": [
    {
     "name": "stdout",
     "output_type": "stream",
     "text": [
      "(5000,)\n"
     ]
    }
   ],
   "source": [
    "# All 5000 predictions\n",
    "predictions_all = compute_accuracy_all(X_test_LR, theta_final)\n",
    "print(predictions_all.shape)"
   ]
  },
  {
   "attachments": {},
   "cell_type": "markdown",
   "metadata": {},
   "source": [
    "## Summary\n",
    "The highest accuracy was the Naive Bayes algorithm with test accuracy of 83.90% accuracy"
   ]
  }
 ],
 "metadata": {
  "anaconda-cloud": {},
  "kernelspec": {
   "display_name": "Python 3",
   "language": "python",
   "name": "python3"
  },
  "language_info": {
   "codemirror_mode": {
    "name": "ipython",
    "version": 3
   },
   "file_extension": ".py",
   "mimetype": "text/x-python",
   "name": "python",
   "nbconvert_exporter": "python",
   "pygments_lexer": "ipython3",
   "version": "3.8.3"
  }
 },
 "nbformat": 4,
 "nbformat_minor": 2
}
